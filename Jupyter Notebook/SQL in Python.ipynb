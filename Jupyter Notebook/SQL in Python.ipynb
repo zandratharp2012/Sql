{
 "cells": [
  {
   "cell_type": "markdown",
   "metadata": {},
   "source": [
    "# This file will contain steps on how to read a file (csv) and join tables to create a new file (csv) along with other python examples\n"
   ]
  },
  {
   "cell_type": "code",
   "execution_count": null,
   "metadata": {},
   "outputs": [],
   "source": [
    "import csv\n",
    "import pandas as pd\n",
    "import numpy as np\n",
    "import datetime\n",
    "from datetime import date\n",
    "import os\n",
    "pd.set_option('display.max_rows', 1000)\n",
    "pd.set_option('display.max_columns', 200) \n",
    "import matplotlib.pyplot as plt\n",
    "import seaborn as sns\n",
    "sns.set(color_codes=True)\n",
    "from jinja2 import Template\n",
    "import sys\n",
    "#reload(sys)\n",
    "#sys.setdefaultencoding('UTF8')\n",
    "import matplotlib\n",
    "import sqlalchemy as sa\n",
    "#(import database as cc)\n",
    "%matplotlib inline \n",
    "##### Finding tables and columns \n",
    "#cc.run_query(\"\"\"SELECT TOP 10 * from dbc.columnsV\"\"\")"
   ]
  },
  {
   "cell_type": "markdown",
   "metadata": {},
   "source": [
    "- First we read the csv (if it's numbers file, export to csv before using pd.read function)"
   ]
  },
  {
   "cell_type": "code",
   "execution_count": null,
   "metadata": {},
   "outputs": [],
   "source": [
    "data = pd.read_csv('Example.csv')\n",
    "#As an example we will choose a column and display the result.  \n",
    "final_data = data['Id']     \n",
    "print(final_data)\n",
    "\n",
    "#You can check how many categories of items there are in the dataframe using pandas\n",
    "final_data_details = pd.DataFrame(final_data) \n",
    "final_data_details = final_data_details[['Id']]\n",
    "print (final_data_details.Id.value_counts())"
   ]
  },
  {
   "cell_type": "code",
   "execution_count": null,
   "metadata": {},
   "outputs": [],
   "source": [
    "#This variable will format a dictionary that will contain id numbers if running in a sql query.\n",
    "ids = \"(\"+ ', '.join(\"'{0}'\".format(w) for w in final_data )+\")\"\n",
    "\n"
   ]
  },
  {
   "cell_type": "code",
   "execution_count": null,
   "metadata": {},
   "outputs": [],
   "source": [
    "#Example query and assuming both tables have a primary key to join tables\n",
    "#You can also run an inner join if you need to select max hire date and compare to another date found in anoth\n",
    "employee =\"\"\"\n",
    "SELECT\n",
    "a.id,\n",
    "a.name,\n",
    "b.phone_nr, \n",
    "a.address\n",
    "FROM z.employees a\n",
    "JOIN z.employee_details b\n",
    "ON a.id = b.id\n",
    "WHERE a.id IN {ids}\n",
    "qualify row_number() over (partition by a.id order by b.address desc) =1\n",
    "order by 2\n",
    "\"\"\".format(ids=ids)\n",
    "\n",
    "#Setup database connection and following statement will run query\n",
    "result= cc.run_query(employee)\n",
    "\n"
   ]
  },
  {
   "cell_type": "code",
   "execution_count": null,
   "metadata": {},
   "outputs": [],
   "source": [
    "table=td.result\n",
    "export_csv=table.to_csv('EmployeeInfo.csv', index = 0, header = 1) "
   ]
  },
  {
   "cell_type": "code",
   "execution_count": null,
   "metadata": {},
   "outputs": [],
   "source": []
  },
  {
   "cell_type": "markdown",
   "metadata": {},
   "source": [
    "This will allow you to create a volatile table"
   ]
  },
  {
   "cell_type": "code",
   "execution_count": null,
   "metadata": {
    "scrolled": true
   },
   "outputs": [],
   "source": [
    "%%sql\n",
    "CREATE VOLATILE TABLE name_your_table as\n",
    "(SELECT \n",
    " a\n",
    " b\n",
    " c \n",
    " where a in ('x','y','z')\n",
    ")\n",
    "WITH DATA\n",
    "ON COMMIT PRESERVE ROWS"
   ]
  },
  {
   "cell_type": "code",
   "execution_count": null,
   "metadata": {},
   "outputs": [],
   "source": []
  },
  {
   "cell_type": "code",
   "execution_count": null,
   "metadata": {},
   "outputs": [],
   "source": [
    "#If working with simple tables or if statements with what tables to you you can do the following: \n",
    "table_schema = \"nameofschema\" \n",
    "table_name = \"nameoftable\"\n",
    "full_table_name =  table_schema + \".\" + table_name\n",
    "\n",
    "count = td.run_query(\"select count(1) as c from {full_table_name}\".format(**locals()))\n",
    "results = td.run_query(\"select distinct * from {full_table_name}\".format(**locals()))\n",
    "print(count,results)\n",
    "\n"
   ]
  },
  {
   "cell_type": "code",
   "execution_count": null,
   "metadata": {},
   "outputs": [],
   "source": [
    "#Python examples"
   ]
  },
  {
   "cell_type": "code",
   "execution_count": null,
   "metadata": {},
   "outputs": [],
   "source": [
    "def foo(x): \n",
    "    return x * x"
   ]
  },
  {
   "cell_type": "code",
   "execution_count": null,
   "metadata": {},
   "outputs": [],
   "source": [
    "foo(6)"
   ]
  },
  {
   "cell_type": "code",
   "execution_count": null,
   "metadata": {},
   "outputs": [],
   "source": [
    "(df\n",
    " [['a', 'b', 'c']]\n",
    " .sort_values(['b', 'c'])\n",
    " .groupby('b')\n",
    " .sum())\n",
    "(jack\n",
    "    .withJill()\n",
    "    .runs()\n",
    "    .uphill())\n",
    "uphill(runs(withJill(jack)))"
   ]
  },
  {
   "cell_type": "code",
   "execution_count": null,
   "metadata": {},
   "outputs": [],
   "source": [
    "import numpy as np"
   ]
  },
  {
   "cell_type": "code",
   "execution_count": null,
   "metadata": {},
   "outputs": [],
   "source": [
    "ys = pd.Series([1,2,3,4])"
   ]
  },
  {
   "cell_type": "code",
   "execution_count": null,
   "metadata": {},
   "outputs": [],
   "source": [
    "[y*y for y in ys]"
   ]
  },
  {
   "cell_type": "code",
   "execution_count": null,
   "metadata": {},
   "outputs": [],
   "source": [
    "[x for x in ys.iteritems()]"
   ]
  },
  {
   "cell_type": "code",
   "execution_count": null,
   "metadata": {},
   "outputs": [],
   "source": [
    "[x for x in ys]"
   ]
  },
  {
   "cell_type": "code",
   "execution_count": null,
   "metadata": {},
   "outputs": [],
   "source": [
    "[y[1] for y in ys.items()]"
   ]
  },
  {
   "cell_type": "code",
   "execution_count": null,
   "metadata": {},
   "outputs": [],
   "source": [
    "[y for _, y in ys.items()]"
   ]
  }
 ],
 "metadata": {
  "kernelspec": {
   "display_name": "Python 3",
   "language": "python",
   "name": "python3"
  },
  "language_info": {
   "codemirror_mode": {
    "name": "ipython",
    "version": 3
   },
   "file_extension": ".py",
   "mimetype": "text/x-python",
   "name": "python",
   "nbconvert_exporter": "python",
   "pygments_lexer": "ipython3",
   "version": "3.7.2"
  }
 },
 "nbformat": 4,
 "nbformat_minor": 2
}
