{
 "cells": [
  {
   "cell_type": "markdown",
   "metadata": {},
   "source": [
    "# This notebook will try and find an operating point \n",
    "# that yields better results for precision"
   ]
  },
  {
   "cell_type": "code",
   "execution_count": null,
   "metadata": {},
   "outputs": [],
   "source": [
    "import csv\n",
    "import pandas as pd\n",
    "import numpy as np\n",
    "import datetime\n",
    "from datetime import date\n",
    "import os\n",
    "pd.set_option('display.max_rows', 1000)\n",
    "pd.set_option('display.max_columns', 200) \n",
    "import matplotlib.pyplot as plt\n",
    "import seaborn as sns\n",
    "sns.set(color_codes=True)\n",
    "from jinja2 import Template\n",
    "import sys\n",
    "#reload(sys)\n",
    "#sys.setdefaultencoding('UTF8')\n",
    "import matplotlib\n",
    "import sqlalchemy as sa\n",
    "#(import database as cc)\n",
    "%matplotlib inline \n",
    "##### Finding tables and columns \n",
    "#cc.run_query(\"\"\"SELECT TOP 10 * from dbc.columnsV\"\"\")"
   ]
  },
  {
   "cell_type": "code",
   "execution_count": null,
   "metadata": {},
   "outputs": [],
   "source": [
    "cc.connect()"
   ]
  },
  {
   "cell_type": "code",
   "execution_count": null,
   "metadata": {},
   "outputs": [],
   "source": [
    "#Variables have been replaced.\n",
    "#This is just an example of how to use lambda if working with a model and needing to\n",
    "#find a better operating point.\n",
    "\n",
    "records = cc.run_query(\"\"\"\n",
    "    SELECT\n",
    "    (case when val.id like 'A%' then 'Faculty'\n",
    "         when val.id like 'B%' then 'Student'\n",
    "         when val.id like 'C%' then 'Valet' \n",
    "         when (val.id not like 'A%' \n",
    "               and val.id not like 'B%'\n",
    "               and val.id not like 'C%') then 'Other' end) as id,\n",
    "    val.has_car car, \n",
    "    val.has_truck truck,\n",
    "    val.score score,\n",
    "    val.score_threshold as score_threshold,\n",
    "    val.grade_decision,\n",
    "    l.crime_ind,\n",
    "    l.crime_label as crime_label, \n",
    "    l.level_ind as level_ind,\n",
    "    val.aggregated_decisions_str,\n",
    "    base.major     \n",
    "    FROM z.validation_table val\n",
    "    LEFT JOIN z.labels l\n",
    "    ON l.id = val.id\n",
    "    LEFT JOIN z.bases base \n",
    "    ON base.id = val.id\n",
    "    WHERE val.event_dt between '2019-12-01' and '2019-12-31'\n",
    "    AND val.site in ('USA')\n",
    "    qualify row_number() over(partition by val.id order by val.event_timestamp DESC)=1\n",
    "    order by 1 ASC\n",
    "    \"\"\")"
   ]
  },
  {
   "cell_type": "code",
   "execution_count": null,
   "metadata": {},
   "outputs": [],
   "source": [
    "records['score'] = records['score'].astype(float).round(3)\n",
    "records['score_threshold'] = records['score_threshold'].astype(float)"
   ]
  },
  {
   "cell_type": "code",
   "execution_count": null,
   "metadata": {},
   "outputs": [],
   "source": [
    "def get_precision(df,delta):\n",
    "    # Creating a temp dataframe that holds modified threshold and desired format\n",
    "    # Get the total number of records and total flagged count\n",
    "    # Calculate precision for model:\n",
    "    # (crime/(crime + non_crimes)) \n",
    "\n",
    "    # Find a better operating point for model \n",
    "    \n",
    "    tempdf = (records\n",
    "              .assign(score_threshold=lambda x: (x['score_threshold'] == delta) + delta))\n",
    "    num_records = tempdf.shape[0]\n",
    "    \n",
    "    num_flagged_df = tempdf[((tempdf.score) > (tempdf.score_threshold))\n",
    "                       & (tempdf.car == 'true')\n",
    "                       & (tempdf.truck == 'true')]\n",
    "    num_flagged = num_flagged_df.shape[0]\n",
    "    \n",
    "    person_details = num_flagged_df[(num_flagged_df.id == 'Faculty')]\n",
    "    person_total_flagged = person_details.shape[0]\n",
    "         \n",
    "    crimes = num_flagged_df[(num_flagged_df.id == 'Faculty')]            \n",
    "    crime_details = crimes[['crime_label']]\n",
    "    print (crime_details.crime_label.value_counts())    \n",
    "    \n",
    "    misdemeanor_df = num_flagged_df[(num_flagged_df.dispatch_id == 'Faculty') \n",
    "                           & ((num_flagged_df.crime_label == 'misdemeanor'))]\n",
    "  \n",
    "    not_charged_df = misdemeanor_df[(misdemeanor_df.crime_ind == '0')]\n",
    "    \n",
    "    federal_df = num_flagged_df[(num_flagged_df.id == 'Faculty') \n",
    "                           & ((num_flagged_df.crime_label == 'federal'))]\n",
    "\n",
    "    charged_df = federal_df[(federal_df.crime_ind == '1')]\n",
    "    \n",
    "    misdemeanor_count = misdemeanor_df.shape[0]\n",
    "    not_charged_count = not_charged_df.shape[0]\n",
    "    federal_count = federal_df.shape[0]\n",
    "    charged_count = charged_df.shape[0]\n",
    "\n",
    "    try:\n",
    "        precision = (charged_count*100.00)/(charged_count + not_charged_count)\n",
    "    except ZeroDivisionError:\n",
    "        precision = 0\n",
    "  \n",
    "    return {'Delta': delta,\n",
    "            'Total_Records':num_records,\n",
    "            'Misdemeanor_Count': misdemeanor_count, \n",
    "            'Federal_Count': federal_count, \n",
    "            'person_total_flagged': person_total_flagged,\n",
    "            'Charged_Count': charged_count, \n",
    "            'Not_Charged_Count': not_charged_count,\n",
    "            'Precision': precision}\n",
    "    "
   ]
  },
  {
   "cell_type": "code",
   "execution_count": null,
   "metadata": {
    "scrolled": true
   },
   "outputs": [],
   "source": [
    "results = [get_prec(records, .417)] #for delta in np.arange(0,1,.001)]"
   ]
  },
  {
   "cell_type": "code",
   "execution_count": null,
   "metadata": {},
   "outputs": [],
   "source": [
    "final_results=pd.DataFrame.from_records(results)"
   ]
  },
  {
   "cell_type": "code",
   "execution_count": null,
   "metadata": {
    "scrolled": true
   },
   "outputs": [],
   "source": [
    "final_results"
   ]
  }
 ],
 "metadata": {
  "kernelspec": {
   "display_name": "Python 3",
   "language": "python",
   "name": "python3"
  },
  "language_info": {
   "codemirror_mode": {
    "name": "ipython",
    "version": 3
   },
   "file_extension": ".py",
   "mimetype": "text/x-python",
   "name": "python",
   "nbconvert_exporter": "python",
   "pygments_lexer": "ipython3",
   "version": "3.7.2"
  }
 },
 "nbformat": 4,
 "nbformat_minor": 2
}
